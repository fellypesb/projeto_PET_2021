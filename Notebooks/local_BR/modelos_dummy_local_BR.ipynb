{
 "cells": [
  {
   "cell_type": "markdown",
   "metadata": {},
   "source": [
    "# Importação dos dados"
   ]
  },
  {
   "cell_type": "code",
   "execution_count": 3,
   "metadata": {},
   "outputs": [],
   "source": [
    "# Para manipulaçao dos dados\n",
    "import pandas as pd"
   ]
  },
  {
   "cell_type": "code",
   "execution_count": 4,
   "metadata": {},
   "outputs": [],
   "source": [
    "url = 'https://github.com/fellypesb/time_series_predict/raw/main/Dados/local_BR/train_local_BR.csv'\n",
    "\n",
    "local_BR_train = pd.read_csv(url)"
   ]
  },
  {
   "cell_type": "markdown",
   "metadata": {},
   "source": [
    "# Células notebook antigo"
   ]
  },
  {
   "cell_type": "code",
   "execution_count": null,
   "metadata": {},
   "outputs": [],
   "source": []
  },
  {
   "cell_type": "code",
   "execution_count": null,
   "metadata": {},
   "outputs": [],
   "source": [
    "# Divisão dos dados entre variáveis preditoras e alvos\n",
    "\n",
    "atributos_ufopa = ufopa_[best_corr.index]\n",
    "\n",
    "target_ufopa = ufopa_['ghi']\n",
    "\n",
    "(atributos_ufopa.shape, target_ufopa.shape,)"
   ]
  },
  {
   "cell_type": "code",
   "execution_count": null,
   "metadata": {},
   "outputs": [],
   "source": [
    "# boxplot dos atributos previsores\n",
    "\n",
    "with sns.axes_style('whitegrid'):\n",
    "    fig, ax = plt.subplots(figsize=(15,7))\n",
    "    sns.boxplot(data=atributos_ufopa, palette='Set2')\n",
    "    ax.set_title('Distribuição dos dados', fontdict={'fontsize':18, 'fontweight': 'bold'})\n",
    "    plt.xticks([0,1,2,3],['angulo_zenital', 'irradiancia_ceu_claro', 'umidade_relativa', \\\n",
    "    'temperatura'])\n",
    "    plt.show()"
   ]
  },
  {
   "cell_type": "markdown",
   "metadata": {},
   "source": [
    "### todo\n",
    "+ Mudar título\n",
    "+ Adicionar labels\n",
    "+ Entender o que seria gráfico distorcido\n",
    "+ Entender possíveis outlinears"
   ]
  },
  {
   "cell_type": "code",
   "execution_count": null,
   "metadata": {},
   "outputs": [],
   "source": [
    "# Divisão dos dados para treino e teste (cronológica)\n",
    "\n",
    "X_train, X_test, y_train, y_test = train_test_split(atributos_ufopa, target_ufopa, test_size=0.2, shuffle=False)\n",
    "\n"
   ]
  },
  {
   "cell_type": "markdown",
   "metadata": {},
   "source": [
    "### todo\n",
    "+ Buscar mais informações sobre divisão dos dados: **treino/validação/teste**\n",
    "+ fazer plot com o seaborn\n",
    "+ Melhor forma de definir o tamanho de treino e teste é pensar no produto final. Qual é o horizonte de previsões adequado para melhor solucionar o problema?\n",
    "+ Equilibrio entre a robustez da estimativa de validação e a capacidade do modelo de aprender com uma quantidade mínima necessária de exemplos\n",
    "+ Fazer uma análise da pontação do modelo para diferentes tamanhos de conjuntos de treino e teste  "
   ]
  },
  {
   "cell_type": "code",
   "execution_count": null,
   "metadata": {},
   "outputs": [],
   "source": [
    "print('Treino:', X_train.shape[0], '\\tTeste:', X_test.shape[0])\n"
   ]
  },
  {
   "cell_type": "code",
   "execution_count": null,
   "metadata": {},
   "outputs": [],
   "source": [
    "# Calcula o horizonte de previsões\n",
    "\n",
    "q_dias = X_test.shape[0] / 13\n",
    "q_meses = q_dias / 30\n",
    "print(f'Horizonte de previsões aprox. {round(q_meses,2)} meses.')"
   ]
  },
  {
   "cell_type": "markdown",
   "metadata": {},
   "source": [
    "# Modelos Dummy\n",
    "\n",
    "São modelos que realizam previsões utilizando regras simples.\n",
    "\n",
    "Servem como baseline para comparar com outros modelos. Não é utilizado em problemas reais."
   ]
  },
  {
   "cell_type": "markdown",
   "metadata": {},
   "source": [
    "### Média do atributo alvo"
   ]
  },
  {
   "cell_type": "code",
   "execution_count": null,
   "metadata": {},
   "outputs": [],
   "source": [
    "dummy_1 = pd.DataFrame({'y_real':y_test, 'y_pred':y_train.mean()})\n",
    "accuracy_1 = r2_score(dummy_1.y_real, dummy_1.y_pred)\n",
    "\n",
    "with sns.axes_style('whitegrid'):\n",
    "    plt.figure(figsize=(20,8))\n",
    "    plt.plot(y_test, label='Real')\n",
    "    plt.plot(dummy_1.y_pred, label='Pred.')\n",
    "    plt.xlabel('Tempo (h)', fontsize=20)\n",
    "    plt.ylabel('Irradiância ($W/m^2$)', fontsize=20)\n",
    "    plt.title(f'Score: {accuracy_1}', fontsize=20, weight='bold')\n",
    "    plt.legend()"
   ]
  },
  {
   "cell_type": "markdown",
   "metadata": {},
   "source": [
    "## Coeficiente de determinação ($R^2$ )\n",
    "# <center>$R^2(y, \\hat{y}) = 1 - \\frac{\\sum_{i=1}^{n} (y_i - \\hat{y}_i)^2}{\\sum_{i=1}^{n} (y_i - \\bar{y})^2}$</center>\n",
    "\n",
    "Onde $y_i$ corresponde ao valor esperado, $\\hat{y}_i$ o valor predito para o i-ésimo exemplo e $\\bar{y}$ a média do alvo das predições. Nesta métrica, o melhor valor que pode ser encontrado é 1 (um)."
   ]
  },
  {
   "cell_type": "markdown",
   "metadata": {},
   "source": [
    "### Médias dos atributos previsores"
   ]
  },
  {
   "cell_type": "code",
   "execution_count": null,
   "metadata": {},
   "outputs": [],
   "source": [
    "dummy_2 = pd.DataFrame({'y_real':y_test, 'y_pred':X_test.std(axis=1)})\n",
    "accuracy_2 = r2_score(dummy_2.y_real, dummy_2.y_pred)\n",
    "\n",
    "with sns.axes_style('whitegrid'):\n",
    "    plt.figure(figsize=(20,8))\n",
    "    dummy_2['y_real'].plot(label='Real')\n",
    "    dummy_2['y_pred'].plot(marker='.', label='Pred.')\n",
    "    plt.xlabel('Tempo (h)', fontsize=20)\n",
    "    plt.ylabel('Irradiância ($W/m^2$)', fontsize=20)\n",
    "    plt.title(f'Score: {round(accuracy_2,2)}', fontsize=20, weight='bold')\n",
    "    plt.legend()"
   ]
  },
  {
   "cell_type": "markdown",
   "metadata": {},
   "source": [
    "### Lags (atrasos de tempo)"
   ]
  },
  {
   "cell_type": "code",
   "execution_count": null,
   "metadata": {},
   "outputs": [],
   "source": [
    "dummy_3 = pd.DataFrame({'y_real':y_test, 'y_pred':y_test.shift(13)}).dropna()\n",
    "#accuracy_3 = r2_score(dummy_3.y_real, dummy_3.y_pred)\n",
    "accuracy_3 = mean_absolute_percentage_error(dummy_3.y_real, dummy_3.y_pred)\n",
    "#accuracy_3 = mean_absolute_error(dummy_3.y_real, dummy_3.y_pred)\n",
    "\n",
    "with sns.axes_style('whitegrid'):\n",
    "    dummy_3['y_real'].plot(figsize=(20,8), label='Real')\n",
    "    dummy_3['y_pred'].plot(label='Pred.')\n",
    "    plt.xlabel('Tempo (h)', fontsize=20)\n",
    "    plt.ylabel('Irradiância ($W/m^2$)', fontsize=20)\n",
    "    plt.title(f'Score: {round(accuracy_3,2)}', fontsize=20, weight='bold')\n",
    "    plt.legend()"
   ]
  },
  {
   "cell_type": "markdown",
   "metadata": {},
   "source": [
    "### todo\n",
    "+ estudar e plotar gráfico de autocorreação para melhor entendimento do baseline anterior"
   ]
  },
  {
   "cell_type": "markdown",
   "metadata": {},
   "source": [
    "### Médias Móveis"
   ]
  },
  {
   "cell_type": "code",
   "execution_count": null,
   "metadata": {},
   "outputs": [],
   "source": [
    "dummy_4 = pd.DataFrame({'y_real':y_test, 'y_pred':y_test.rolling(2).mean()}).dropna()\n",
    "#accuracy_4 = r2_score(dummy_4.y_real, dummy_4.y_pred)\n",
    "#accuracy_4 = mean_absolute_percentage_error(dummy_3.y_real, dummy_3.y_pred)\n",
    "accuracy_4 = mean_absolute_error(dummy_3.y_real, dummy_3.y_pred)\n",
    "\n",
    "with sns.axes_style('whitegrid'):\n",
    "    dummy_4['y_real'].plot(figsize=(20,8), label='Real')\n",
    "    dummy_4['y_pred'].plot(label='Pred.')\n",
    "    plt.xlabel('Tempo (h)', fontsize=20)\n",
    "    plt.ylabel('Irradiância ($W/m^2$)', fontsize=20)\n",
    "    plt.title(f'Score: {round(accuracy_4,2)}', fontsize=20, weight='bold')\n",
    "    plt.legend()"
   ]
  }
 ],
 "metadata": {
  "kernelspec": {
   "display_name": "Python 3",
   "language": "python",
   "name": "python3"
  },
  "language_info": {
   "codemirror_mode": {
    "name": "ipython",
    "version": 3
   },
   "file_extension": ".py",
   "mimetype": "text/x-python",
   "name": "python",
   "nbconvert_exporter": "python",
   "pygments_lexer": "ipython3",
   "version": "3.8.5"
  }
 },
 "nbformat": 4,
 "nbformat_minor": 4
}
