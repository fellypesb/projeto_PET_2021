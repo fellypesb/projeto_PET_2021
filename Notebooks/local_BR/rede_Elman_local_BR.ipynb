{
 "cells": [
  {
   "cell_type": "markdown",
   "metadata": {},
   "source": [
    "# Importação de bibliotecas"
   ]
  },
  {
   "cell_type": "code",
   "execution_count": null,
   "metadata": {},
   "outputs": [],
   "source": [
    "#import numpy as np\n",
    "\n",
    "# # Visualização dos dados\n",
    "# import seaborn as sns\n",
    "# import matplotlib.pyplot as plt\n",
    "\n",
    "# %matplotlib inline\n",
    "# sns.set_theme()\n",
    "\n",
    "# # Pré-processamento dos dados\n",
    "# from sklearn.model_selection import train_test_split, TimeSeriesSplit\n",
    "# from sklearn.preprocessing import StandardScaler\n",
    "\n",
    "# # Criação de modelos\n",
    "# from sklearn.dummy import DummyRegressor\n",
    "\n",
    "# from keras.models import Sequential\n",
    "# from keras.layers import Dense, SimpleRNN\n",
    "# from keras.optimizers import SGD, RMSprop\n",
    "# from keras.callbacks import EarlyStopping\n",
    "\n",
    "# # Métricas de avaliação\n",
    "# from sklearn.metrics import r2_score, mean_absolute_percentage_error, mean_squared_error, mean_absolute_error, mean_squared_log_error\n"
   ]
  },
  {
   "cell_type": "markdown",
   "metadata": {},
   "source": [
    "# Escalonamento dos atributos"
   ]
  },
  {
   "cell_type": "code",
   "execution_count": null,
   "metadata": {},
   "outputs": [],
   "source": [
    "scaler = StandardScaler()\n",
    "\n",
    "X_train_norm = scaler.fit_transform(X_train)\n",
    "X_test_norm = scaler.transform(X_test)\n",
    "\n",
    "y_train_norm = scaler.fit_transform(y_train.to_numpy().reshape(-1, 1))\n",
    "y_test_norm = scaler.transform(y_test.to_numpy().reshape(-1, 1))"
   ]
  },
  {
   "cell_type": "code",
   "execution_count": null,
   "metadata": {},
   "outputs": [],
   "source": [
    "with sns.axes_style(\"whitegrid\"):\n",
    "    fig, ax = plt.subplots(figsize=(15,7))\n",
    "    sns.boxplot(data=X_train_norm, palette='Set2')\n",
    "    ax.set_title('Distribuição do dados com StandardScaler', fontdict={'fontsize':18, 'fontweight': 'bold'})\n",
    "    plt.xticks([0,1,2,3],['angulo_zenital', 'irradiancia_ceu_claro', 'umidade_relativa',\n",
    "       'temperatura'])\n",
    "    plt.show()"
   ]
  },
  {
   "cell_type": "markdown",
   "metadata": {},
   "source": [
    "# StandardScaler\n",
    "# <center>$z = \\frac{(x - \\mu)}{\\sigma}$</center>\n",
    "\n",
    "Onde $x$ são as amostras do conjunto de dados, $u$ a média do astributo e $s$, o desvio padrão."
   ]
  },
  {
   "cell_type": "code",
   "execution_count": null,
   "metadata": {},
   "outputs": [],
   "source": [
    "# Propriedades estatísticas após normalização dos dados\n",
    "\n",
    "pd.DataFrame(X_train_norm).describe()"
   ]
  },
  {
   "cell_type": "markdown",
   "metadata": {},
   "source": [
    "### todo\n",
    "+ Verificar o makepipeline\n",
    "+ ver artigo sobre a normalization"
   ]
  },
  {
   "cell_type": "markdown",
   "metadata": {},
   "source": [
    "# Implementação da rede recorrente de ELMAN"
   ]
  },
  {
   "cell_type": "code",
   "execution_count": null,
   "metadata": {},
   "outputs": [],
   "source": [
    "treinamento = ufopa_[:int(len(ufopa_)*0.8)]\n",
    "teste = ufopa_[int(len(ufopa_)*0.8):]"
   ]
  },
  {
   "cell_type": "code",
   "execution_count": null,
   "metadata": {},
   "outputs": [],
   "source": [
    "len(treinamento), len(teste)"
   ]
  },
  {
   "cell_type": "code",
   "execution_count": null,
   "metadata": {},
   "outputs": [],
   "source": [
    "treinamento = scaler.fit_transform(treinamento)\n",
    "teste = scaler.transform(teste)"
   ]
  },
  {
   "cell_type": "markdown",
   "metadata": {},
   "source": [
    "### Aplicando a janela deslizante"
   ]
  },
  {
   "cell_type": "code",
   "execution_count": null,
   "metadata": {},
   "outputs": [],
   "source": [
    "def sliding_window(data, lag):\n",
    "    '''\n",
    "        Função que aplica a técnica de transformação dos dados em função de uma janela de tempo (lag)\n",
    "    '''\n",
    "    size_data = len(data)\n",
    "    X, y = [], []\n",
    "    for i in range(lag, size_data):\n",
    "        X.append(data[i-lag:i])\n",
    "        y.append(data[i])\n",
    "    return np.asarray(X), np.asarray(y)"
   ]
  },
  {
   "cell_type": "code",
   "execution_count": null,
   "metadata": {},
   "outputs": [],
   "source": [
    "LAG = 13\n",
    "Xtrain, ytrain = sliding_window(treinamento[:,5], LAG)\n",
    "Xtest, ytest = sliding_window(teste[:,5], LAG)"
   ]
  },
  {
   "cell_type": "code",
   "execution_count": null,
   "metadata": {},
   "outputs": [],
   "source": [
    "Xtrain = np.reshape(Xtrain, (Xtrain.shape[0], Xtrain.shape[1], 1))\n",
    "Xtest = np.reshape(Xtest, (Xtest.shape[0], Xtest.shape[1], 1))\n",
    "\n",
    "Xtrain.shape, Xtest.shape"
   ]
  },
  {
   "cell_type": "markdown",
   "metadata": {},
   "source": [
    "### todo\n",
    "+ Adicionar seed"
   ]
  },
  {
   "cell_type": "markdown",
   "metadata": {},
   "source": [
    "###  Criação do modelo"
   ]
  },
  {
   "cell_type": "code",
   "execution_count": null,
   "metadata": {},
   "outputs": [],
   "source": [
    "model = Sequential(name='Elman_RNN')\n",
    "\n",
    "model.add(SimpleRNN(units=10,\n",
    "                    input_shape=(Xtrain.shape[1], Xtrain.shape[2]),\n",
    "                    activation='relu',\n",
    "                    name='Recorrent_layer'))\n",
    "\n",
    "model.add(Dense(units=1,\n",
    "                activation='linear',\n",
    "                name='output_layer'))\n",
    "\n",
    "model.compile(optimizer=SGD(learning_rate=0.125, momentum=0.93),\n",
    "             loss='mse',\n",
    "             metrics=['mape'])\n",
    "\n",
    "callback = EarlyStopping(monitor='loss', patience=10, min_delta=1e-7)\n",
    "\n",
    "hist = model.fit(Xtrain, ytrain, batch_size=32, epochs=100, callbacks=[callback])"
   ]
  },
  {
   "cell_type": "code",
   "execution_count": null,
   "metadata": {},
   "outputs": [],
   "source": [
    "loss = hist.history['loss']\n",
    "ax = sns.lineplot(data=loss, linewidth=1.5)\n",
    "ax.set_title('Função de custo')\n",
    "ax.set_xlabel('Épocas')\n",
    "ax.set_ylabel('Erro quadrático médio')\n",
    "plt.show()"
   ]
  },
  {
   "cell_type": "code",
   "execution_count": null,
   "metadata": {},
   "outputs": [],
   "source": [
    "model.evaluate(Xtest, ytest)"
   ]
  },
  {
   "cell_type": "markdown",
   "metadata": {},
   "source": [
    "### todo\n",
    "Adicionar atributos:\n",
    "+ Sazonalidade (mês, estação do ano)\n",
    "+ Lag\n",
    "+ Diff Lag\n",
    "+ Media móvel"
   ]
  },
  {
   "cell_type": "markdown",
   "metadata": {},
   "source": [
    "## todo reunião (17/05/2021)\n",
    "\n",
    "+ verificar a cobertura de nuvens para as duas localidades\n",
    "+ Fazer um ppt com os resultados\n",
    "+ Confirmar reunião às 13:30\n"
   ]
  },
  {
   "cell_type": "markdown",
   "metadata": {},
   "source": [
    "## Todo\n",
    "\n",
    "+ Dividir os dados em treino, validação e teste e subir para o github.  \n",
    " (Não esquecer de alterar os links dos repositórios nos notebooks)\n",
    "\n",
    "+ Separar por pastas: local_BR, local_EUA\n",
    "\n",
    "\n"
   ]
  }
 ],
 "metadata": {
  "kernelspec": {
   "display_name": "Python 3",
   "language": "python",
   "name": "python3"
  },
  "language_info": {
   "codemirror_mode": {
    "name": "ipython",
    "version": 3
   },
   "file_extension": ".py",
   "mimetype": "text/x-python",
   "name": "python",
   "nbconvert_exporter": "python",
   "pygments_lexer": "ipython3",
   "version": "3.8.5"
  }
 },
 "nbformat": 4,
 "nbformat_minor": 4
}
